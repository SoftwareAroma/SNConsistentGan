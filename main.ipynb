{
 "cells": [
  {
   "cell_type": "code",
   "execution_count": null,
   "metadata": {},
   "outputs": [],
   "source": [
    "!pip install visdom"
   ]
  },
  {
   "cell_type": "code",
   "execution_count": null,
   "metadata": {},
   "outputs": [],
   "source": [
    "# start server\n",
    "!python -m visdom.server"
   ]
  },
  {
   "cell_type": "code",
   "execution_count": null,
   "metadata": {},
   "outputs": [],
   "source": [
    "# train cycle gan\n",
    "!python train.py --dataroot ./datasets/cycle_gan --name horses_cyclegan --model cycle_gan --pool_size 50 --no_dropout"
   ]
  },
  {
   "cell_type": "code",
   "execution_count": null,
   "metadata": {},
   "outputs": [],
   "source": [
    "import torch\n",
    "def mode_seeking_loss(gen_imgs1, gen_imgs2, lambda_ms=1.0):\n",
    "    \"\"\"\n",
    "    Calculate the mode seeking loss to encourage diversity in generated images.\n",
    "\n",
    "    Args:\n",
    "        gen_imgs1: Tensor containing the first set of generated images.\n",
    "        gen_imgs2: Tensor containing the second set of generated images.\n",
    "        lambda_ms: Scaling factor for the mode seeking loss.\n",
    "\n",
    "    Returns:\n",
    "        Tensor containing the mode seeking loss value.\n",
    "    \"\"\"\n",
    "    # L1 distance between generated images\n",
    "    l1_dist_gen = torch.mean(torch.abs(gen_imgs1 - gen_imgs2))\n",
    "    \n",
    "    # Ensure non-zero division\n",
    "    l1_dist_gen = l1_dist_gen + 1e-8\n",
    "\n",
    "    # Mode seeking loss\n",
    "    ms_loss = lambda_ms / l1_dist_gen\n",
    "    return ms_loss"
   ]
  }
 ],
 "metadata": {
  "kernelspec": {
   "display_name": "Python 3",
   "language": "python",
   "name": "python3"
  },
  "language_info": {
   "codemirror_mode": {
    "name": "ipython",
    "version": 3
   },
   "file_extension": ".py",
   "mimetype": "text/x-python",
   "name": "python",
   "nbconvert_exporter": "python",
   "pygments_lexer": "ipython3",
   "version": "3.11.8"
  }
 },
 "nbformat": 4,
 "nbformat_minor": 2
}
